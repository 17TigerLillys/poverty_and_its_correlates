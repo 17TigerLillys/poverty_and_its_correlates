{
 "cells": [
  {
   "cell_type": "markdown",
   "metadata": {},
   "source": [
    "# Playing with poverty models"
   ]
  },
  {
   "cell_type": "markdown",
   "metadata": {},
   "source": [
    "So the idea for this notebook is to play with different classification models to predict poverty on a city level. This uses specifically US data from the Census thus, poverty is defined within the context of the data provided by the Census bureau. So note that depending on the state, and the family size (which includes 1, an individual) the poverty line changes. For example, the ASPE office of HHS (found here: https://aspe.hhs.gov/poverty-guidelines) a household of 1 person with an income of <= $12,140 is considered below with the poverty level."
   ]
  },
  {
   "cell_type": "code",
   "execution_count": 42,
   "metadata": {
    "collapsed": true
   },
   "outputs": [],
   "source": [
    "import pandas as pd\n",
    "import numpy as np \n",
    "import matplotlib.pyplot as plt\n",
    "import seaborn as sns\n",
    "\n",
    "from sklearn.linear_model import LogisticRegression\n",
    "from sklearn.model_selection import GridSearchCV\n",
    "from sklearn.neighbors import KNeighborsClassifier\n",
    "from sklearn.model_selection import train_test_split\n",
    "from sklearn.svm import SVC \n",
    "from sklearn.metrics import classification_report\n",
    "from sklearn.ensemble import RandomForestClassifier\n",
    "from sklearn.ensemble import GradientBoostingClassifier\n",
    "from sklearn.preprocessing import StandardScaler\n",
    "from sklearn.linear_model import LogisticRegression\n",
    "from sklearn.cluster import KMeans\n",
    "from skgarden import RandomForestQuantileRegressor\n",
    "\n",
    "from sklearn.ensemble import AdaBoostClassifier\n",
    "from sklearn.model_selection import cross_val_score\n",
    "from sklearn.metrics import mean_squared_error\n",
    "\n",
    "%matplotlib inline"
   ]
  },
  {
   "cell_type": "markdown",
   "metadata": {},
   "source": [
    "lets have some fun and take a look at our data"
   ]
  },
  {
   "cell_type": "code",
   "execution_count": 2,
   "metadata": {
    "collapsed": true
   },
   "outputs": [],
   "source": [
    "df = pd.read_csv(\"../csv/city_pov_2016.csv\", encoding=\"latin-1\")"
   ]
  },
  {
   "cell_type": "markdown",
   "metadata": {},
   "source": [
    "Not too big (but not too small either :D)"
   ]
  },
  {
   "cell_type": "code",
   "execution_count": 3,
   "metadata": {},
   "outputs": [
    {
     "data": {
      "text/plain": [
       "(605, 77)"
      ]
     },
     "execution_count": 3,
     "metadata": {},
     "output_type": "execute_result"
    }
   ],
   "source": [
    "df.shape"
   ]
  },
  {
   "cell_type": "markdown",
   "metadata": {},
   "source": [
    "We'll print out the columns of our dataset just so we can take a look at it for reference"
   ]
  },
  {
   "cell_type": "code",
   "execution_count": 4,
   "metadata": {
    "scrolled": true
   },
   "outputs": [
    {
     "data": {
      "text/plain": [
       "Index(['Id', 'Id2', 'Geography',\n",
       "       'Estimate; EMPLOYMENT STATUS - Population 16 years and over',\n",
       "       'Estimate; EMPLOYMENT STATUS - Civilian labor force',\n",
       "       'Percent; EMPLOYMENT STATUS - Civilian labor force - Unemployment Rate',\n",
       "       'Estimate; EMPLOYMENT STATUS - Females 16 years and over',\n",
       "       'Estimate; EMPLOYMENT STATUS - Females 16 years and over - In labor force',\n",
       "       'Percent; EMPLOYMENT STATUS - Females 16 years and over - In labor force',\n",
       "       'Percent; EMPLOYMENT STATUS - Females 16 years and over - In labor force - Civilian labor force - Employed',\n",
       "       'Estimate; OCCUPATION - Civilian employed population 16 years and over',\n",
       "       'Estimate; OCCUPATION - Civilian employed population 16 years and over - Management, business, science, and arts occupations',\n",
       "       'Percent; OCCUPATION - Civilian employed population 16 years and over - Management, business, science, and arts occupations',\n",
       "       'Estimate; OCCUPATION - Civilian employed population 16 years and over - Service occupations',\n",
       "       'Percent; OCCUPATION - Civilian employed population 16 years and over - Service occupations',\n",
       "       'Estimate; OCCUPATION - Civilian employed population 16 years and over - Sales and office occupations',\n",
       "       'Percent; OCCUPATION - Civilian employed population 16 years and over - Sales and office occupations',\n",
       "       'Estimate; OCCUPATION - Civilian employed population 16 years and over - Natural resources, construction, and maintenance occupations',\n",
       "       'Percent; OCCUPATION - Civilian employed population 16 years and over - Natural resources, construction, and maintenance occupations',\n",
       "       'Estimate; OCCUPATION - Civilian employed population 16 years and over - Production, transportation, and material moving occupations',\n",
       "       'Percent; OCCUPATION - Civilian employed population 16 years and over - Production, transportation, and material moving occupations',\n",
       "       'Estimate; INDUSTRY - Civilian employed population 16 years and over',\n",
       "       'Estimate; INDUSTRY - Civilian employed population 16 years and over - Agriculture, forestry, fishing and hunting, and mining',\n",
       "       'Percent; INDUSTRY - Civilian employed population 16 years and over - Agriculture, forestry, fishing and hunting, and mining',\n",
       "       'Estimate; INDUSTRY - Civilian employed population 16 years and over - Construction',\n",
       "       'Percent; INDUSTRY - Civilian employed population 16 years and over - Construction',\n",
       "       'Estimate; INDUSTRY - Civilian employed population 16 years and over - Manufacturing',\n",
       "       'Percent; INDUSTRY - Civilian employed population 16 years and over - Manufacturing',\n",
       "       'Estimate; INDUSTRY - Civilian employed population 16 years and over - Wholesale trade',\n",
       "       'Percent; INDUSTRY - Civilian employed population 16 years and over - Wholesale trade',\n",
       "       'Estimate; INDUSTRY - Civilian employed population 16 years and over - Retail trade',\n",
       "       'Percent; INDUSTRY - Civilian employed population 16 years and over - Retail trade',\n",
       "       'Estimate; INDUSTRY - Civilian employed population 16 years and over - Transportation and warehousing, and utilities',\n",
       "       'Percent; INDUSTRY - Civilian employed population 16 years and over - Transportation and warehousing, and utilities',\n",
       "       'Estimate; INDUSTRY - Civilian employed population 16 years and over - Information',\n",
       "       'Percent; INDUSTRY - Civilian employed population 16 years and over - Information',\n",
       "       'Estimate; INDUSTRY - Civilian employed population 16 years and over - Finance and insurance, and real estate and rental and leasing',\n",
       "       'Percent; INDUSTRY - Civilian employed population 16 years and over - Finance and insurance, and real estate and rental and leasing',\n",
       "       'Estimate; INDUSTRY - Civilian employed population 16 years and over - Professional, scientific, and management, and administrative and waste management services',\n",
       "       'Percent; INDUSTRY - Civilian employed population 16 years and over - Professional, scientific, and management, and administrative and waste management services',\n",
       "       'Estimate; INDUSTRY - Civilian employed population 16 years and over - Educational services, and health care and social assistance',\n",
       "       'Percent; INDUSTRY - Civilian employed population 16 years and over - Educational services, and health care and social assistance',\n",
       "       'Estimate; INDUSTRY - Civilian employed population 16 years and over - Arts, entertainment, and recreation, and accommodation and food services',\n",
       "       'Percent; INDUSTRY - Civilian employed population 16 years and over - Arts, entertainment, and recreation, and accommodation and food services',\n",
       "       'Estimate; INDUSTRY - Civilian employed population 16 years and over - Other services, except public administration',\n",
       "       'Percent; INDUSTRY - Civilian employed population 16 years and over - Other services, except public administration',\n",
       "       'Estimate; INDUSTRY - Civilian employed population 16 years and over - Public administration',\n",
       "       'Percent; INDUSTRY - Civilian employed population 16 years and over - Public administration',\n",
       "       'Estimate; CLASS OF WORKER - Civilian employed population 16 years and over',\n",
       "       'Estimate; CLASS OF WORKER - Civilian employed population 16 years and over - Private wage and salary workers',\n",
       "       'Percent; CLASS OF WORKER - Civilian employed population 16 years and over - Private wage and salary workers',\n",
       "       'Estimate; CLASS OF WORKER - Civilian employed population 16 years and over - Government workers',\n",
       "       'Percent; CLASS OF WORKER - Civilian employed population 16 years and over - Government workers',\n",
       "       'Estimate; CLASS OF WORKER - Civilian employed population 16 years and over - Self-employed in own not incorporated business workers',\n",
       "       'Percent; CLASS OF WORKER - Civilian employed population 16 years and over - Self-employed in own not incorporated business workers',\n",
       "       'Estimate; CLASS OF WORKER - Civilian employed population 16 years and over - Unpaid family workers',\n",
       "       'Percent; CLASS OF WORKER - Civilian employed population 16 years and over - Unpaid family workers',\n",
       "       'Estimate; INCOME AND BENEFITS (IN 2016 INFLATION-ADJUSTED DOLLARS) - With Food Stamp/SNAP benefits in the past 12 months',\n",
       "       'Percent; INCOME AND BENEFITS (IN 2016 INFLATION-ADJUSTED DOLLARS) - With Food Stamp/SNAP benefits in the past 12 months',\n",
       "       'Estimate; INCOME AND BENEFITS (IN 2016 INFLATION-ADJUSTED DOLLARS) - Per capita income (dollars)',\n",
       "       'Estimate; INCOME AND BENEFITS (IN 2016 INFLATION-ADJUSTED DOLLARS) - Median earnings for workers (dollars)',\n",
       "       'Estimate; INCOME AND BENEFITS (IN 2016 INFLATION-ADJUSTED DOLLARS) - Median earnings for male full-time, year-round workers (dollars)',\n",
       "       'Estimate; INCOME AND BENEFITS (IN 2016 INFLATION-ADJUSTED DOLLARS) - Median earnings for female full-time, year-round workers (dollars)',\n",
       "       'Estimate; HEALTH INSURANCE COVERAGE - Civilian noninstitutionalized population',\n",
       "       'Estimate; HEALTH INSURANCE COVERAGE - Civilian noninstitutionalized population - With health insurance coverage',\n",
       "       'Percent; HEALTH INSURANCE COVERAGE - Civilian noninstitutionalized population - With health insurance coverage',\n",
       "       'Estimate; HEALTH INSURANCE COVERAGE - Civilian noninstitutionalized population - No health insurance coverage',\n",
       "       'Percent; HEALTH INSURANCE COVERAGE - Civilian noninstitutionalized population - No health insurance coverage',\n",
       "       'Estimate; HEALTH INSURANCE COVERAGE - Civilian noninstitutionalized population under 18 years',\n",
       "       'Estimate; HEALTH INSURANCE COVERAGE - Civilian noninstitutionalized population under 18 years - No health insurance coverage',\n",
       "       'Percent; HEALTH INSURANCE COVERAGE - Civilian noninstitutionalized population under 18 years - No health insurance coverage',\n",
       "       'Percent; PERCENTAGE OF FAMILIES AND PEOPLE WHOSE INCOME IN THE PAST 12 MONTHS IS BELOW THE POVERTY LEVEL - Families with female householder, no husband present',\n",
       "       'Percent; PERCENTAGE OF FAMILIES AND PEOPLE WHOSE INCOME IN THE PAST 12 MONTHS IS BELOW THE POVERTY LEVEL - All people',\n",
       "       'Percent; PERCENTAGE OF FAMILIES AND PEOPLE WHOSE INCOME IN THE PAST 12 MONTHS IS BELOW THE POVERTY LEVEL - All people - 18 years and over',\n",
       "       'Percent; PERCENTAGE OF FAMILIES AND PEOPLE WHOSE INCOME IN THE PAST 12 MONTHS IS BELOW THE POVERTY LEVEL - All people - 18 years and over - 18 to 64 years',\n",
       "       'Percent; PERCENTAGE OF FAMILIES AND PEOPLE WHOSE INCOME IN THE PAST 12 MONTHS IS BELOW THE POVERTY LEVEL - All people - 18 years and over - 65 years and over',\n",
       "       'Percent; PERCENTAGE OF FAMILIES AND PEOPLE WHOSE INCOME IN THE PAST 12 MONTHS IS BELOW THE POVERTY LEVEL - People in families'],\n",
       "      dtype='object')"
      ]
     },
     "execution_count": 4,
     "metadata": {},
     "output_type": "execute_result"
    }
   ],
   "source": [
    "df.columns"
   ]
  },
  {
   "cell_type": "markdown",
   "metadata": {},
   "source": [
    "So how do we classify a city as poor? Well for now, I'll use the column labeled 'Percent; PERCENTAGE OF FAMILIES AND PEOPLE WHOSE INCOME IN THE PAST 12 MONTHS IS BELOW THE POVERTY LEVEL - All people', (wow that's a mouth full). Why? Because it is a basic and comprehensive way of showing the average level of poverty across cities in the US."
   ]
  },
  {
   "cell_type": "code",
   "execution_count": 5,
   "metadata": {},
   "outputs": [
    {
     "data": {
      "text/plain": [
       "count    605.000000\n",
       "mean      15.712397\n",
       "std        7.732579\n",
       "min        2.000000\n",
       "25%        9.600000\n",
       "50%       15.000000\n",
       "75%       20.400000\n",
       "max       47.400000\n",
       "Name: Percent; PERCENTAGE OF FAMILIES AND PEOPLE WHOSE INCOME IN THE PAST 12 MONTHS IS BELOW THE POVERTY LEVEL - All people, dtype: float64"
      ]
     },
     "execution_count": 5,
     "metadata": {},
     "output_type": "execute_result"
    }
   ],
   "source": [
    "df['Percent; PERCENTAGE OF FAMILIES AND PEOPLE WHOSE INCOME IN THE PAST 12 MONTHS IS BELOW THE POVERTY LEVEL - All people'].describe()"
   ]
  },
  {
   "cell_type": "markdown",
   "metadata": {},
   "source": [
    "Probably should've done this earlier, but lets just change the column name I've used above. Make things look better ya dig?"
   ]
  },
  {
   "cell_type": "code",
   "execution_count": 6,
   "metadata": {
    "collapsed": true
   },
   "outputs": [],
   "source": [
    "df.rename(columns={'Percent; PERCENTAGE OF FAMILIES AND PEOPLE WHOSE INCOME IN THE PAST 12 MONTHS IS BELOW THE POVERTY LEVEL - All people': 'Per_below_pov'}, inplace=True)"
   ]
  },
  {
   "cell_type": "code",
   "execution_count": 7,
   "metadata": {},
   "outputs": [
    {
     "data": {
      "text/plain": [
       "0    24.5\n",
       "1    19.6\n",
       "2     5.4\n",
       "3    17.3\n",
       "4    21.4\n",
       "Name: Per_below_pov, dtype: float64"
      ]
     },
     "execution_count": 7,
     "metadata": {},
     "output_type": "execute_result"
    }
   ],
   "source": [
    "df['Per_below_pov'].head()"
   ]
  },
  {
   "cell_type": "markdown",
   "metadata": {},
   "source": [
    "So it appears, just based off this very basic describe method, that the average percentage of people below the poverty level in US cities in around 16% \n",
    "\n",
    "\n",
    "Now is the fun part, we get to play with and develop some models. Now, we'll say that any city with more than 16% of its population below the poverty line is considered relatively poor within the context of the United States. We could use Sci-Kit Learn's LabelEncoder, but, for simplicity sake, I'll just convert any values below 16% to 0 and above to 1 using pandas. "
   ]
  },
  {
   "cell_type": "code",
   "execution_count": 8,
   "metadata": {
    "collapsed": true
   },
   "outputs": [],
   "source": [
    "df.loc[df['Per_below_pov'] <= 10, \"is_poor\"] = 1\n",
    "df.loc[df['Per_below_pov'] > 10, \"is_poor\"] = 0"
   ]
  },
  {
   "cell_type": "code",
   "execution_count": 9,
   "metadata": {},
   "outputs": [
    {
     "data": {
      "text/plain": [
       "0    0.0\n",
       "1    0.0\n",
       "2    1.0\n",
       "3    0.0\n",
       "4    0.0\n",
       "Name: is_poor, dtype: float64"
      ]
     },
     "execution_count": 9,
     "metadata": {},
     "output_type": "execute_result"
    }
   ],
   "source": [
    "df['is_poor'].head()"
   ]
  },
  {
   "cell_type": "markdown",
   "metadata": {},
   "source": [
    "Purrrrrfect  ;) .  Anyway now lets check our dataset for missing values, we'll replace those with zeros for now. "
   ]
  },
  {
   "cell_type": "code",
   "execution_count": 10,
   "metadata": {},
   "outputs": [
    {
     "data": {
      "text/plain": [
       "465"
      ]
     },
     "execution_count": 10,
     "metadata": {},
     "output_type": "execute_result"
    }
   ],
   "source": [
    "df.isnull().sum().sum()"
   ]
  },
  {
   "cell_type": "code",
   "execution_count": null,
   "metadata": {
    "collapsed": true
   },
   "outputs": [],
   "source": []
  },
  {
   "cell_type": "code",
   "execution_count": 11,
   "metadata": {
    "collapsed": true
   },
   "outputs": [],
   "source": [
    "df = df.fillna('0')"
   ]
  },
  {
   "cell_type": "markdown",
   "metadata": {},
   "source": [
    "Lets do some preliminary work. We'll create our test splits right now."
   ]
  },
  {
   "cell_type": "markdown",
   "metadata": {},
   "source": [
    "lets find the distribution of poor cities"
   ]
  },
  {
   "cell_type": "code",
   "execution_count": 12,
   "metadata": {},
   "outputs": [
    {
     "data": {
      "text/plain": [
       "<matplotlib.axes._subplots.AxesSubplot at 0x1101e67b8>"
      ]
     },
     "execution_count": 12,
     "metadata": {},
     "output_type": "execute_result"
    },
    {
     "data": {
      "image/png": "[encoded data removed]",
      "text/plain": [
       "<matplotlib.figure.Figure at 0x1101e6b70>"
      ]
     },
     "metadata": {},
     "output_type": "display_data"
    }
   ],
   "source": [
    "df['is_poor'].value_counts().plot.bar(title='Number of Poor cities')\n"
   ]
  },
  {
   "cell_type": "code",
   "execution_count": 45,
   "metadata": {},
   "outputs": [
    {
     "data": {
      "text/plain": [
       "<matplotlib.axes._subplots.AxesSubplot at 0x11db2a940>"
      ]
     },
     "execution_count": 45,
     "metadata": {},
     "output_type": "execute_result"
    },
    {
     "data": {
      "image/png": "[encoded data removed]",
      "text/plain": [
       "<matplotlib.figure.Figure at 0x11d8b5a90>"
      ]
     },
     "metadata": {},
     "output_type": "display_data"
    }
   ],
   "source": [
    "df['Per_below_pov'].hist()"
   ]
  },
  {
   "cell_type": "code",
   "execution_count": 13,
   "metadata": {
    "collapsed": true
   },
   "outputs": [],
   "source": [
    "target = df[\"is_poor\"]\n",
    "target_names = [\"poorer\", \"richer\"]\n",
    "data = df.drop([\"is_poor\", 'Geography', 'Id', 'Id2'], axis=1)\n",
    "feature_names = data.columns"
   ]
  },
  {
   "cell_type": "code",
   "execution_count": 14,
   "metadata": {
    "collapsed": true
   },
   "outputs": [],
   "source": [
    "X_train, X_test, y_train, y_test = train_test_split(data, target, random_state=32)"
   ]
  },
  {
   "cell_type": "markdown",
   "metadata": {},
   "source": [
    "I want to start with a SVC, lets try it now.\n",
    "SVC\n",
    "========"
   ]
  },
  {
   "cell_type": "code",
   "execution_count": 15,
   "metadata": {
    "collapsed": true
   },
   "outputs": [],
   "source": [
    "X_train, X_test, y_train, y_test = train_test_split(data, target, random_state=32)\n",
    "X_scaler = StandardScaler().fit(X_train)\n",
    "X_train_scaled = X_scaler.transform(X_train)\n",
    "X_test_scaled = X_scaler.transform(X_test)"
   ]
  },
  {
   "cell_type": "code",
   "execution_count": 16,
   "metadata": {
    "collapsed": true
   },
   "outputs": [],
   "source": [
    "\n",
    "svc_model = SVC(kernel='linear')"
   ]
  },
  {
   "cell_type": "code",
   "execution_count": 17,
   "metadata": {
    "collapsed": true
   },
   "outputs": [],
   "source": [
    "#from sklearn.model_selection import GridSearchCV\n",
    "#param_grid = {'C': [1, 10],\n",
    "#              'gamma': [0.0001, 0.001]}\n",
    "#grid = GridSearchCV(svc, param_grid, verbose=2)"
   ]
  },
  {
   "cell_type": "code",
   "execution_count": 18,
   "metadata": {
    "collapsed": true,
    "scrolled": false
   },
   "outputs": [],
   "source": [
    "#grid.fit(X_train, y_train)"
   ]
  },
  {
   "cell_type": "markdown",
   "metadata": {},
   "source": [
    "fit the model"
   ]
  },
  {
   "cell_type": "code",
   "execution_count": 19,
   "metadata": {
    "collapsed": true
   },
   "outputs": [],
   "source": [
    "#X_train, X_test, y_train, y_test = train_test_split(data, target, random_state=32)"
   ]
  },
  {
   "cell_type": "code",
   "execution_count": 20,
   "metadata": {},
   "outputs": [
    {
     "data": {
      "text/plain": [
       "SVC(C=1.0, cache_size=200, class_weight=None, coef0=0.0,\n",
       "  decision_function_shape=None, degree=3, gamma='auto', kernel='linear',\n",
       "  max_iter=-1, probability=False, random_state=None, shrinking=True,\n",
       "  tol=0.001, verbose=False)"
      ]
     },
     "execution_count": 20,
     "metadata": {},
     "output_type": "execute_result"
    }
   ],
   "source": [
    "svc_model.fit(X_train_scaled, y_train)\n"
   ]
  },
  {
   "cell_type": "code",
   "execution_count": 21,
   "metadata": {},
   "outputs": [
    {
     "name": "stdout",
     "output_type": "stream",
     "text": [
      "Test Acc: 0.783\n"
     ]
    }
   ],
   "source": [
    "print('Test Acc: %.3f' % svc_model.score(X_test, y_test))"
   ]
  },
  {
   "cell_type": "code",
   "execution_count": 22,
   "metadata": {},
   "outputs": [
    {
     "name": "stdout",
     "output_type": "stream",
     "text": [
      "MSE: 0.21710526315789475\n"
     ]
    }
   ],
   "source": [
    "MSE_svc = mean_squared_error(y_test, svc_model.predict(X_test))  \n",
    "print(f\"MSE: {MSE_svc}\")"
   ]
  },
  {
   "cell_type": "code",
   "execution_count": 23,
   "metadata": {},
   "outputs": [
    {
     "name": "stdout",
     "output_type": "stream",
     "text": [
      "             precision    recall  f1-score   support\n",
      "\n",
      "     poorer       1.00      0.97      0.99       110\n",
      "     richer       0.93      1.00      0.97        42\n",
      "\n",
      "avg / total       0.98      0.98      0.98       152\n",
      "\n"
     ]
    }
   ],
   "source": [
    "predictions = svc_model.predict(X_test_scaled)\n",
    "print(classification_report(y_test, predictions,\n",
    "                            target_names=target_names))"
   ]
  },
  {
   "cell_type": "markdown",
   "metadata": {},
   "source": [
    "SVC score is not what we'd desire. Lets try something different. \n",
    "\n",
    "K-Nearest Neighbors\n",
    "=================================="
   ]
  },
  {
   "cell_type": "code",
   "execution_count": 24,
   "metadata": {
    "collapsed": true
   },
   "outputs": [],
   "source": [
    "X_train, X_test, y_train, y_test = train_test_split(data, target, random_state=32)\n",
    "X_scaler = StandardScaler().fit(X_train)\n",
    "X_train_scaled = X_scaler.transform(X_train)\n",
    "X_test_scaled = X_scaler.transform(X_test)"
   ]
  },
  {
   "cell_type": "code",
   "execution_count": 25,
   "metadata": {},
   "outputs": [
    {
     "name": "stdout",
     "output_type": "stream",
     "text": [
      "k: 1, Train/Test Score: 1.000/0.888\n",
      "k: 3, Train/Test Score: 0.945/0.901\n",
      "k: 5, Train/Test Score: 0.936/0.895\n",
      "k: 7, Train/Test Score: 0.945/0.895\n",
      "k: 9, Train/Test Score: 0.934/0.882\n",
      "k: 11, Train/Test Score: 0.936/0.888\n",
      "k: 13, Train/Test Score: 0.925/0.882\n",
      "k: 15, Train/Test Score: 0.927/0.882\n",
      "k: 17, Train/Test Score: 0.929/0.875\n",
      "k: 19, Train/Test Score: 0.921/0.888\n"
     ]
    },
    {
     "data": {
      "image/png": "[encoded data removed]",
      "text/plain": [
       "<matplotlib.figure.Figure at 0x11d560160>"
      ]
     },
     "metadata": {},
     "output_type": "display_data"
    }
   ],
   "source": [
    "# Loop through different k values to see which has the highest accuracy\n",
    "# Note: We only use odd numbers because we don't want any ties\n",
    "train_scores = []\n",
    "test_scores = []\n",
    "for k in range(1, 20, 2):\n",
    "    knn = KNeighborsClassifier(n_neighbors=k)\n",
    "    knn.fit(X_train_scaled, y_train)\n",
    "    train_score = knn.score(X_train_scaled, y_train)\n",
    "    test_score = knn.score(X_test_scaled, y_test)\n",
    "    train_scores.append(train_score)\n",
    "    test_scores.append(test_score)\n",
    "    print(f\"k: {k}, Train/Test Score: {train_score:.3f}/{test_score:.3f}\")\n",
    "    \n",
    "    \n",
    "plt.plot(range(1, 20, 2), train_scores, marker='o')\n",
    "plt.plot(range(1, 20, 2), test_scores, marker=\"x\")\n",
    "plt.xlabel(\"k neighbors\")\n",
    "plt.ylabel(\"Testing accuracy Score\")\n",
    "plt.show()"
   ]
  },
  {
   "cell_type": "markdown",
   "metadata": {},
   "source": [
    "Random Forest Classifier\n",
    "================================"
   ]
  },
  {
   "cell_type": "code",
   "execution_count": 26,
   "metadata": {
    "collapsed": true
   },
   "outputs": [],
   "source": [
    "X_train, X_test, y_train, y_test = train_test_split(data, target, random_state=32)"
   ]
  },
  {
   "cell_type": "code",
   "execution_count": 27,
   "metadata": {
    "collapsed": true
   },
   "outputs": [],
   "source": [
    "X_scaler = StandardScaler().fit(X_train)\n",
    "X_train_scaled = X_scaler.transform(X_train)\n",
    "X_test_scaled = X_scaler.transform(X_test)"
   ]
  },
  {
   "cell_type": "code",
   "execution_count": 28,
   "metadata": {},
   "outputs": [
    {
     "data": {
      "text/plain": [
       "0.993421052631579"
      ]
     },
     "execution_count": 28,
     "metadata": {},
     "output_type": "execute_result"
    }
   ],
   "source": [
    "rf = RandomForestClassifier(n_estimators=50, random_state=32)\n",
    "rf.fit(X_train_scaled, y_train)\n",
    "rf.score(X_test_scaled, y_test)"
   ]
  },
  {
   "cell_type": "code",
   "execution_count": 29,
   "metadata": {},
   "outputs": [
    {
     "data": {
      "text/plain": [
       "0.9966996699669967"
      ]
     },
     "execution_count": 29,
     "metadata": {},
     "output_type": "execute_result"
    }
   ],
   "source": [
    "scores = cross_val_score(rf, data, target)  \n",
    "scores.mean()"
   ]
  },
  {
   "cell_type": "code",
   "execution_count": 30,
   "metadata": {},
   "outputs": [
    {
     "name": "stdout",
     "output_type": "stream",
     "text": [
      "             precision    recall  f1-score   support\n",
      "\n",
      "     poorer       0.99      1.00      1.00       110\n",
      "     richer       1.00      0.98      0.99        42\n",
      "\n",
      "avg / total       0.99      0.99      0.99       152\n",
      "\n"
     ]
    }
   ],
   "source": [
    "predictions = rf.predict(X_test_scaled)\n",
    "print(classification_report(y_test, predictions,\n",
    "                            target_names=target_names))"
   ]
  },
  {
   "cell_type": "code",
   "execution_count": 31,
   "metadata": {},
   "outputs": [
    {
     "name": "stdout",
     "output_type": "stream",
     "text": [
      "MSE: 0.27631578947368424\n"
     ]
    }
   ],
   "source": [
    "MSE_rf = mean_squared_error(y_test, rf.predict(X_test))  \n",
    "print(f\"MSE: {MSE_rf}\")"
   ]
  },
  {
   "cell_type": "code",
   "execution_count": 32,
   "metadata": {},
   "outputs": [
    {
     "name": "stdout",
     "output_type": "stream",
     "text": [
      "Test Acc: 0.724\n"
     ]
    }
   ],
   "source": [
    "print('Test Acc: %.3f' % rf.score(X_test, y_test))"
   ]
  },
  {
   "cell_type": "markdown",
   "metadata": {},
   "source": [
    "Gradient Boosting Classifier\n",
    "===================="
   ]
  },
  {
   "cell_type": "code",
   "execution_count": 33,
   "metadata": {
    "collapsed": true
   },
   "outputs": [],
   "source": [
    "X_train, X_test, y_train, y_test = train_test_split(data, target, random_state=32)\n",
    "X_scaler = StandardScaler().fit(X_train)\n",
    "X_train_scaled = X_scaler.transform(X_train)\n",
    "X_test_scaled = X_scaler.transform(X_test)"
   ]
  },
  {
   "cell_type": "code",
   "execution_count": 34,
   "metadata": {},
   "outputs": [
    {
     "name": "stdout",
     "output_type": "stream",
     "text": [
      "Test Acc: 0.724\n"
     ]
    }
   ],
   "source": [
    "gbc = GradientBoostingClassifier(n_estimators=2, random_state=32)\n",
    "gbc.fit(X_train_scaled, y_train)\n",
    "gbc.score(X_test_scaled, y_test)\n",
    "print('Test Acc: %.3f' % gbc.score(X_test, y_test))"
   ]
  },
  {
   "cell_type": "code",
   "execution_count": 35,
   "metadata": {},
   "outputs": [
    {
     "name": "stdout",
     "output_type": "stream",
     "text": [
      "MSE: 0.27631578947368424\n"
     ]
    }
   ],
   "source": [
    "MSE_gbc = mean_squared_error(y_test, gbc.predict(X_test))  \n",
    "print(f\"MSE: {MSE_gbc}\")"
   ]
  },
  {
   "cell_type": "code",
   "execution_count": 36,
   "metadata": {},
   "outputs": [
    {
     "name": "stdout",
     "output_type": "stream",
     "text": [
      "             precision    recall  f1-score   support\n",
      "\n",
      "     poorer       0.72      1.00      0.84       110\n",
      "     richer       0.00      0.00      0.00        42\n",
      "\n",
      "avg / total       0.52      0.72      0.61       152\n",
      "\n"
     ]
    },
    {
     "name": "stderr",
     "output_type": "stream",
     "text": [
      "/Users/jayklein95/anaconda/envs/PythonData/lib/python3.6/site-packages/sklearn/metrics/classification.py:1113: UndefinedMetricWarning: Precision and F-score are ill-defined and being set to 0.0 in labels with no predicted samples.\n",
      "  'precision', 'predicted', average, warn_for)\n"
     ]
    }
   ],
   "source": [
    "predictions = gbc.predict(X_test_scaled)\n",
    "print(classification_report(y_test, predictions,\n",
    "                            target_names=target_names))"
   ]
  },
  {
   "cell_type": "markdown",
   "metadata": {},
   "source": [
    "Logistic Regression\n",
    "==========="
   ]
  },
  {
   "cell_type": "code",
   "execution_count": 37,
   "metadata": {
    "collapsed": true
   },
   "outputs": [],
   "source": [
    "X_train, X_test, y_train, y_test = train_test_split(data, target, random_state=32)\n",
    "X_scaler = StandardScaler().fit(X_train)\n",
    "X_train_scaled = X_scaler.transform(X_train)\n",
    "X_test_scaled = X_scaler.transform(X_test)"
   ]
  },
  {
   "cell_type": "code",
   "execution_count": 38,
   "metadata": {
    "collapsed": true
   },
   "outputs": [],
   "source": [
    "lrc = LogisticRegression()"
   ]
  },
  {
   "cell_type": "code",
   "execution_count": 39,
   "metadata": {},
   "outputs": [
    {
     "data": {
      "text/plain": [
       "LogisticRegression(C=1.0, class_weight=None, dual=False, fit_intercept=True,\n",
       "          intercept_scaling=1, max_iter=100, multi_class='ovr', n_jobs=1,\n",
       "          penalty='l2', random_state=None, solver='liblinear', tol=0.0001,\n",
       "          verbose=0, warm_start=False)"
      ]
     },
     "execution_count": 39,
     "metadata": {},
     "output_type": "execute_result"
    }
   ],
   "source": [
    "lrc.fit(X_train_scaled, y_train)"
   ]
  },
  {
   "cell_type": "code",
   "execution_count": 40,
   "metadata": {},
   "outputs": [
    {
     "name": "stdout",
     "output_type": "stream",
     "text": [
      "Test Acc: 0.421\n"
     ]
    }
   ],
   "source": [
    "print('Test Acc: %.3f' % lrc.score(X_test, y_test))"
   ]
  },
  {
   "cell_type": "code",
   "execution_count": 41,
   "metadata": {},
   "outputs": [
    {
     "name": "stdout",
     "output_type": "stream",
     "text": [
      "             precision    recall  f1-score   support\n",
      "\n",
      "     poorer       0.99      0.97      0.98       110\n",
      "     richer       0.93      0.98      0.95        42\n",
      "\n",
      "avg / total       0.97      0.97      0.97       152\n",
      "\n"
     ]
    }
   ],
   "source": [
    "predictions = lrc.predict(X_test_scaled)\n",
    "print(classification_report(y_test, predictions,\n",
    "                            target_names=target_names))"
   ]
  },
  {
   "cell_type": "code",
   "execution_count": null,
   "metadata": {
    "collapsed": true
   },
   "outputs": [],
   "source": []
  },
  {
   "cell_type": "code",
   "execution_count": null,
   "metadata": {
    "collapsed": true
   },
   "outputs": [],
   "source": []
  },
  {
   "cell_type": "code",
   "execution_count": null,
   "metadata": {
    "collapsed": true
   },
   "outputs": [],
   "source": []
  },
  {
   "cell_type": "code",
   "execution_count": null,
   "metadata": {
    "collapsed": true
   },
   "outputs": [],
   "source": []
  }
 ],
 "metadata": {
  "kernelspec": {
   "display_name": "Python [conda env:PythonData]",
   "language": "python",
   "name": "conda-env-PythonData-py"
  },
  "language_info": {
   "codemirror_mode": {
    "name": "ipython",
    "version": 3
   },
   "file_extension": ".py",
   "mimetype": "text/x-python",
   "name": "python",
   "nbconvert_exporter": "python",
   "pygments_lexer": "ipython3",
   "version": "3.6.3"
  }
 },
 "nbformat": 4,
 "nbformat_minor": 2
}
